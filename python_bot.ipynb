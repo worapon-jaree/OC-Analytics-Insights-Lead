{
  "cells": [
    {
      "cell_type": "markdown",
      "metadata": {
        "id": "view-in-github",
        "colab_type": "text"
      },
      "source": [
        "<a href=\"https://colab.research.google.com/github/worapon-jaree/OC-Analytics-Insights-Lead/blob/main/python_bot.ipynb\" target=\"_parent\"><img src=\"https://colab.research.google.com/assets/colab-badge.svg\" alt=\"Open In Colab\"/></a>"
      ]
    },
    {
      "cell_type": "code",
      "execution_count": 1,
      "metadata": {
        "id": "Ounvv-piDOtn",
        "colab": {
          "base_uri": "https://localhost:8080/"
        },
        "outputId": "75173fa7-3fe5-4b7a-f65d-4e02d37250b2"
      },
      "outputs": [
        {
          "output_type": "stream",
          "name": "stdout",
          "text": [
            "Collecting pyngrok\n",
            "  Downloading pyngrok-6.0.0.tar.gz (681 kB)\n",
            "\u001b[2K     \u001b[90m━━━━━━━━━━━━━━━━━━━━━━━━━━━━━━━━━━━━━━━\u001b[0m \u001b[32m681.2/681.2 kB\u001b[0m \u001b[31m5.6 MB/s\u001b[0m eta \u001b[36m0:00:00\u001b[0m\n",
            "\u001b[?25h  Preparing metadata (setup.py) ... \u001b[?25l\u001b[?25hdone\n",
            "Requirement already satisfied: PyYAML in /usr/local/lib/python3.10/dist-packages (from pyngrok) (6.0.1)\n",
            "Building wheels for collected packages: pyngrok\n",
            "  Building wheel for pyngrok (setup.py) ... \u001b[?25l\u001b[?25hdone\n",
            "  Created wheel for pyngrok: filename=pyngrok-6.0.0-py3-none-any.whl size=19867 sha256=2e9f938e767a4d618b7139729b774714793685af7f5ff94815696da9a46a2b1c\n",
            "  Stored in directory: /root/.cache/pip/wheels/5c/42/78/0c3d438d7f5730451a25f7ac6cbf4391759d22a67576ed7c2c\n",
            "Successfully built pyngrok\n",
            "Installing collected packages: pyngrok\n",
            "Successfully installed pyngrok-6.0.0\n"
          ]
        }
      ],
      "source": [
        "!pip install pyngrok"
      ]
    },
    {
      "cell_type": "code",
      "execution_count": 2,
      "metadata": {
        "id": "eWTO1DAxDig4"
      },
      "outputs": [],
      "source": [
        "from flask import Flask\n",
        "from pyngrok import ngrok\n",
        "\n",
        "port_no = 5000"
      ]
    },
    {
      "cell_type": "code",
      "execution_count": 3,
      "metadata": {
        "id": "6ph2PQZkDq9D",
        "colab": {
          "base_uri": "https://localhost:8080/"
        },
        "outputId": "31980bb2-8891-4f4e-a5fb-944e34ad91a5"
      },
      "outputs": [
        {
          "output_type": "stream",
          "name": "stdout",
          "text": []
        },
        {
          "output_type": "stream",
          "name": "stderr",
          "text": [
            "WARNING:pyngrok.process.ngrok:t=2023-09-04T21:03:54+0000 lvl=warn msg=\"ngrok config file found at legacy location, move to XDG location\" xdg_path=/root/.config/ngrok/ngrok.yml legacy_path=/root/.ngrok2/ngrok.yml\n"
          ]
        },
        {
          "output_type": "stream",
          "name": "stdout",
          "text": [
            "To acces the Gloable link please click https://e577-34-86-199-115.ngrok-free.app\n",
            " * Serving Flask app '__main__'\n",
            " * Debug mode: off\n"
          ]
        },
        {
          "output_type": "stream",
          "name": "stderr",
          "text": [
            "INFO:werkzeug:\u001b[31m\u001b[1mWARNING: This is a development server. Do not use it in a production deployment. Use a production WSGI server instead.\u001b[0m\n",
            " * Running on http://127.0.0.1:5000\n",
            "INFO:werkzeug:\u001b[33mPress CTRL+C to quit\u001b[0m\n",
            "INFO:werkzeug:127.0.0.1 - - [04/Sep/2023 21:04:41] \"GET / HTTP/1.1\" 200 -\n"
          ]
        }
      ],
      "source": [
        "app = Flask(__name__)\n",
        "ngrok.set_auth_token(\"2Uwr4MYCaWdwWRMhK9wTC1TMpaM_4GbTaGaUQW9oZkQDx8Zf\")\n",
        "public_url =  ngrok.connect(port_no).public_url\n",
        "\n",
        "@app.route(\"/\")\n",
        "def home():\n",
        "    return f\"Hello World\"\n",
        "\n",
        "print(f\"To acces the Gloable link please click {public_url}\")\n",
        "\n",
        "app.run(port=port_no)"
      ]
    },
    {
      "cell_type": "code",
      "source": [
        "from google.colab import drive\n",
        "drive.mount('/content/drive')"
      ],
      "metadata": {
        "colab": {
          "base_uri": "https://localhost:8080/"
        },
        "id": "q1yGDYduBU8c",
        "outputId": "c5b5234f-e28b-464e-f063-a8db2b664657"
      },
      "execution_count": 4,
      "outputs": [
        {
          "output_type": "stream",
          "name": "stdout",
          "text": [
            "Mounted at /content/drive\n"
          ]
        }
      ]
    },
    {
      "cell_type": "code",
      "source": [
        "from pydrive.auth import GoogleAuth\n",
        "from pydrive.drive import GoogleDrive\n",
        "from google.colab import auth\n",
        "from oauth2client.client import GoogleCredentials\n",
        "# Authenticate and create the PyDrive client.\n",
        "\n",
        "auth.authenticate_user()\n",
        "gauth = GoogleAuth()\n",
        "gauth.credentials = GoogleCredentials.get_application_default()\n",
        "drive = GoogleDrive(gauth)\n",
        "\n",
        "link_train = 'https://drive.google.com/file/d/1URmCVKVMQ7mAdd-Ahb_JE33S5OdeCJZ6/view?usp=share_link'\n",
        "_,_,_,_,_,id,_ = link_train.split('/')\n",
        "downloaded = drive.CreateFile({'id':id})\n",
        "downloaded.GetContentFile('good_luck_color.csv')"
      ],
      "metadata": {
        "id": "Z2uxPcnR8RqG"
      },
      "execution_count": 5,
      "outputs": []
    },
    {
      "cell_type": "code",
      "execution_count": 22,
      "metadata": {
        "id": "789rzftGDw0y",
        "colab": {
          "base_uri": "https://localhost:8080/"
        },
        "outputId": "7dbd6f49-114b-4dfd-8e65-b73968c5972c"
      },
      "outputs": [
        {
          "output_type": "stream",
          "name": "stderr",
          "text": [
            "WARNING:pyngrok.process.ngrok:t=2023-09-04T22:17:44+0000 lvl=warn msg=\"ngrok config file found at legacy location, move to XDG location\" xdg_path=/root/.config/ngrok/ngrok.yml legacy_path=/root/.ngrok2/ngrok.yml\n"
          ]
        },
        {
          "output_type": "stream",
          "name": "stdout",
          "text": [
            "To acces the Gloable link please click https://a0b9-34-86-199-115.ngrok-free.app\n",
            "Starting app on port 5000\n",
            " * Serving Flask app '__main__'\n",
            " * Debug mode: off\n"
          ]
        },
        {
          "output_type": "stream",
          "name": "stderr",
          "text": [
            "INFO:werkzeug:\u001b[31m\u001b[1mWARNING: This is a development server. Do not use it in a production deployment. Use a production WSGI server instead.\u001b[0m\n",
            " * Running on http://127.0.0.1:5000\n",
            "INFO:werkzeug:\u001b[33mPress CTRL+C to quit\u001b[0m\n",
            "INFO:werkzeug:127.0.0.1 - - [04/Sep/2023 22:18:10] \"POST / HTTP/1.1\" 200 -\n"
          ]
        },
        {
          "output_type": "stream",
          "name": "stdout",
          "text": [
            "{\n",
            "    \"responseId\": \"b3d92030-2aa9-458c-b668-19b0136ebae7-6318e683\",\n",
            "    \"queryResult\": {\n",
            "        \"queryText\": \"yes\",\n",
            "        \"action\": \"ContentEffectiveness.ContentEffectiveness-custom.ContentEffectiveness-custom-yes\",\n",
            "        \"parameters\": {\n",
            "            \"Efficacy\": \"\",\n",
            "            \"Device\": \"\",\n",
            "            \"Guideline\": \"\"\n",
            "        },\n",
            "        \"allRequiredParamsPresent\": true,\n",
            "        \"fulfillmentMessages\": [\n",
            "            {\n",
            "                \"text\": {\n",
            "                    \"text\": [\n",
            "                        \"\"\n",
            "                    ]\n",
            "                }\n",
            "            }\n",
            "        ],\n",
            "        \"outputContexts\": [\n",
            "            {\n",
            "                \"name\": \"projects/careportal-mpqj/agent/sessions/3834e535-953a-6fd6-228a-5307de5f5bb0/contexts/contenteffectiveness-custom-followup\",\n",
            "                \"lifespanCount\": 1,\n",
            "                \"parameters\": {\n",
            "                    \"KeyMessage\": [\n",
            "                        \"Efficacy\"\n",
            "                    ],\n",
            "                    \"KeyMessage.original\": [\n",
            "                        \"efficacy\"\n",
            "                    ],\n",
            "                    \"Efficacy\": \"\",\n",
            "                    \"Efficacy.original\": \"\",\n",
            "                    \"Device\": \"\",\n",
            "                    \"Device.original\": \"\",\n",
            "                    \"Guideline\": \"\",\n",
            "                    \"Guideline.original\": \"\"\n",
            "                }\n",
            "            },\n",
            "            {\n",
            "                \"name\": \"projects/careportal-mpqj/agent/sessions/3834e535-953a-6fd6-228a-5307de5f5bb0/contexts/__system_counters__\",\n",
            "                \"parameters\": {\n",
            "                    \"no-input\": 0.0,\n",
            "                    \"no-match\": 0.0,\n",
            "                    \"Efficacy\": \"\",\n",
            "                    \"Efficacy.original\": \"\",\n",
            "                    \"Device\": \"\",\n",
            "                    \"Device.original\": \"\",\n",
            "                    \"Guideline\": \"\",\n",
            "                    \"Guideline.original\": \"\"\n",
            "                }\n",
            "            }\n",
            "        ],\n",
            "        \"intent\": {\n",
            "            \"name\": \"projects/careportal-mpqj/agent/intents/ccf76da1-cdcb-4233-bf2a-a5da9ff7fb21\",\n",
            "            \"displayName\": \"Content Effectiveness - custom - yes\"\n",
            "        },\n",
            "        \"intentDetectionConfidence\": 1.0,\n",
            "        \"languageCode\": \"en\",\n",
            "        \"sentimentAnalysisResult\": {\n",
            "            \"queryTextSentiment\": {\n",
            "                \"score\": 0.6,\n",
            "                \"magnitude\": 0.6\n",
            "            }\n",
            "        }\n",
            "    },\n",
            "    \"originalDetectIntentRequest\": {\n",
            "        \"source\": \"DIALOGFLOW_CONSOLE\",\n",
            "        \"payload\": {}\n",
            "    },\n",
            "    \"session\": \"projects/careportal-mpqj/agent/sessions/3834e535-953a-6fd6-228a-5307de5f5bb0\"\n",
            "}\n",
            "Content Effectiveness - custom - yes\n"
          ]
        }
      ],
      "source": [
        "import json\n",
        "import os\n",
        "from flask import Flask, request, make_response\n",
        "from pyngrok import ngrok\n",
        "import pandas as pd\n",
        "\n",
        "#Flask\n",
        "app = Flask(__name__)\n",
        "ngrok.set_auth_token(\"2Uwr4MYCaWdwWRMhK9wTC1TMpaM_4GbTaGaUQW9oZkQDx8Zf\")\n",
        "public_url =  ngrok.connect(port_no).public_url\n",
        "@app.route(\"/\", methods=['POST'])\n",
        "\n",
        "def MainFunction():\n",
        "\n",
        "    #Getting intent from Dailogflow\n",
        "    question_from_dailogflow_raw = request.get_json(silent=True, force=True)\n",
        "\n",
        "    #Call generating_answer function to classify the question\n",
        "    answer_from_bot = generating_answer(question_from_dailogflow_raw)\n",
        "\n",
        "    #Make a respond back to Dailogflow\n",
        "    r = make_response(answer_from_bot)\n",
        "    r.headers['Content-Type'] = 'application/json' #Setting Content Type\n",
        "\n",
        "    return r\n",
        "\n",
        "def generating_answer(question_from_dailogflow_dict):\n",
        "\n",
        "    #Print intent that recived from dialogflow.\n",
        "    print(json.dumps(question_from_dailogflow_dict, indent=4 ,ensure_ascii=False))\n",
        "\n",
        "    #Getting intent name form intent that recived from dialogflow.\n",
        "    intent_group_question_str = question_from_dailogflow_dict[\"queryResult\"][\"intent\"][\"displayName\"]\n",
        "    print(intent_group_question_str)\n",
        "\n",
        "    #Select function for answering question\n",
        "    if intent_group_question_str == \"Content Effectiveness - custom - yes\":\n",
        "        answer_str = 1\n",
        "\n",
        "    #Build answer dict\n",
        "    answer_from_bot = {\"fulfillmentText\": answer_str}\n",
        "\n",
        "    #Convert dict to JSON\n",
        "    answer_from_bot = json.dumps(answer_from_bot, indent=4)\n",
        "\n",
        "    return answer_from_bot\n",
        "\n",
        "#Flask\n",
        "if __name__ == '__main__':\n",
        "    print(f\"To acces the Gloable link please click {public_url}\")\n",
        "    print(\"Starting app on port %d\" % port_no)\n",
        "    app.run(debug=False, port=port_no, threaded=True)"
      ]
    }
  ],
  "metadata": {
    "colab": {
      "provenance": [],
      "include_colab_link": true
    },
    "kernelspec": {
      "display_name": "Python 3 (ipykernel)",
      "language": "python",
      "name": "python3"
    },
    "language_info": {
      "codemirror_mode": {
        "name": "ipython",
        "version": 3
      },
      "file_extension": ".py",
      "mimetype": "text/x-python",
      "name": "python",
      "nbconvert_exporter": "python",
      "pygments_lexer": "ipython3",
      "version": "3.9.12"
    }
  },
  "nbformat": 4,
  "nbformat_minor": 0
}